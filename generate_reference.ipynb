{
 "cells": [
  {
   "cell_type": "markdown",
   "metadata": {},
   "source": [
    "# Generate reference data\n",
    "\n",
    "Make reference data for `carsus/io/output/base.py` module."
   ]
  },
  {
   "cell_type": "code",
   "execution_count": null,
   "metadata": {},
   "outputs": [],
   "source": [
    "import pandas as pd\n",
    "from pandas.testing import assert_frame_equal, assert_series_equal"
   ]
  },
  {
   "cell_type": "code",
   "execution_count": null,
   "metadata": {},
   "outputs": [],
   "source": [
    "from carsus.io.nist import NISTWeightsComp, NISTIonizationEnergies\n",
    "from carsus.io.kurucz import GFALLReader\n",
    "from carsus.io.zeta import KnoxLongZeta\n",
    "from carsus.io.chianti_ import ChiantiReader\n",
    "from carsus.io.cmfgen import CMFGENEnergyLevelsParser, CMFGENOscillatorStrengthsParser, CMFGENReader\n",
    "from carsus.io.output import TARDISAtomData"
   ]
  },
  {
   "cell_type": "code",
   "execution_count": null,
   "metadata": {},
   "outputs": [],
   "source": [
    "GFALL_IONS = \"H-Si\"\n",
    "CHIANTI_IONS = \"H-He\"\n",
    "CMFGEN_IONS = \"Si_I-II\""
   ]
  },
  {
   "cell_type": "code",
   "execution_count": null,
   "metadata": {},
   "outputs": [],
   "source": [
    "fname = f\"test_data_ku_{GFALL_IONS}_ch_{CHIANTI_IONS}_cm_{CMFGEN_IONS}.h5\"\n",
    "refdata = pd.HDFStore(fname)"
   ]
  },
  {
   "cell_type": "code",
   "execution_count": null,
   "metadata": {},
   "outputs": [],
   "source": [
    "atomic_weights = NISTWeightsComp()\n",
    "ionization_energies = NISTIonizationEnergies(GFALL_IONS)\n",
    "gfall_reader = GFALLReader(ions=GFALL_IONS)\n",
    "chianti_reader = ChiantiReader(ions=CHIANTI_IONS, collisions=True, priority=20)\n",
    "zeta_data = KnoxLongZeta()"
   ]
  },
  {
   "cell_type": "code",
   "execution_count": null,
   "metadata": {},
   "outputs": [],
   "source": [
    "si_0_lvl = CMFGENEnergyLevelsParser('./cmfgen/energy_levels/SiI_OSC')\n",
    "si_0_osc = CMFGENOscillatorStrengthsParser('./cmfgen/energy_levels/SiI_OSC')\n",
    "si_1_lvl = CMFGENEnergyLevelsParser('./cmfgen/energy_levels/si2_osc_kurucz')\n",
    "si_1_osc = CMFGENOscillatorStrengthsParser('./cmfgen/energy_levels/si2_osc_kurucz')\n",
    "\n",
    "cmfgen_data = {(14,0): {'levels': si_0_lvl.base, 'lines': si_0_osc.base},\n",
    "               (14,1): {'levels': si_1_lvl.base, 'lines': si_1_osc.base},}\n",
    "\n",
    "cmfgen_reader = CMFGENReader(cmfgen_data, priority=20)"
   ]
  },
  {
   "cell_type": "code",
   "execution_count": null,
   "metadata": {},
   "outputs": [],
   "source": [
    "atom_data = TARDISAtomData(atomic_weights,\n",
    "                           ionization_energies,\n",
    "                           gfall_reader,\n",
    "                           zeta_data,\n",
    "                           chianti_reader,\n",
    "                           cmfgen_reader)"
   ]
  },
  {
   "cell_type": "code",
   "execution_count": null,
   "metadata": {},
   "outputs": [],
   "source": [
    "atomic_weights = atom_data.atomic_weights.base.loc[1:14]  # H-Si  to do: store intermediate results\n",
    "ionization_energies = atom_data.ionization_energies.base\n",
    "ionization_energies_prepared = atom_data.ionization_energies_prepared\n",
    "levels_all = atom_data._get_all_levels_data().drop(columns=[\"ds_id\"])\n",
    "levels = atom_data.levels.drop(columns=[\"ds_id\"])\n",
    "levels_prepared = atom_data.levels_prepared\n",
    "lines_all = atom_data._get_all_lines_data().drop(columns=[\"ds_id\"])\n",
    "lines = atom_data.lines.drop(columns=[\"ds_id\"])\n",
    "lines_prepared = atom_data.lines_prepared\n",
    "macro_atom = atom_data.macro_atom\n",
    "macro_atom_prepared = atom_data.macro_atom_prepared\n",
    "macro_atom_references = atom_data.macro_atom_references\n",
    "macro_atom_references_prepared = atom_data.macro_atom_references_prepared\n",
    "collisions = atom_data.collisions.drop(columns=[\"btemp\", \"bscups\"])\n",
    "collisions_prepared = atom_data.collisions_prepared\n",
    "zeta_data = atom_data.zeta_data.base  # to do: store intermediate results"
   ]
  },
  {
   "cell_type": "code",
   "execution_count": null,
   "metadata": {},
   "outputs": [],
   "source": [
    "refdata.put('atomic_weights', atomic_weights)\n",
    "refdata.put('ionization_energies', ionization_energies)\n",
    "refdata.put('ionization_energies_prepared', ionization_energies_prepared)\n",
    "refdata.put('levels_all', levels_all)\n",
    "refdata.put('levels', levels)\n",
    "refdata.put('levels_prepared', levels_prepared)\n",
    "refdata.put('lines_all', lines_all)\n",
    "refdata.put('lines', lines)\n",
    "refdata.put('lines_prepared', lines_prepared)\n",
    "refdata.put('macro_atom', macro_atom)\n",
    "refdata.put('macro_atom_prepared', macro_atom_prepared)\n",
    "refdata.put('macro_atom_references', macro_atom_references)\n",
    "refdata.put('macro_atom_references_prepared', macro_atom_references_prepared)\n",
    "refdata.put('collisions', collisions)\n",
    "refdata.put('collisions_prepared', collisions_prepared)\n",
    "refdata.put('zeta_data', zeta_data)"
   ]
  },
  {
   "cell_type": "code",
   "execution_count": null,
   "metadata": {},
   "outputs": [],
   "source": [
    "refdata.close()"
   ]
  }
 ],
 "metadata": {
  "kernelspec": {
   "display_name": "Python 3",
   "language": "python",
   "name": "python3"
  },
  "language_info": {
   "codemirror_mode": {
    "name": "ipython",
    "version": 3
   },
   "file_extension": ".py",
   "mimetype": "text/x-python",
   "name": "python",
   "nbconvert_exporter": "python",
   "pygments_lexer": "ipython3",
   "version": "3.6.15"
  }
 },
 "nbformat": 4,
 "nbformat_minor": 4
}
